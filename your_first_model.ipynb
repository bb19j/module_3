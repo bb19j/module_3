{
 "cells": [
  {
   "cell_type": "markdown",
   "metadata": {},
   "source": [
    "# Загрузка Pandas и очистка данных"
   ]
  },
  {
   "cell_type": "code",
   "execution_count": 2420,
   "metadata": {},
   "outputs": [],
   "source": [
    "from numpy import inf\n",
    "from sklearn import metrics\n",
    "# инструмент для создания и обучения модели\n",
    "from sklearn.ensemble import RandomForestRegressor\n",
    "from sklearn.model_selection import train_test_split\n",
    "import pandas as pd\n",
    "import re\n",
    "from sklearn.preprocessing import MultiLabelBinarizer, LabelBinarizer, LabelEncoder\n",
    "from collections import Counter\n",
    "import numpy as np\n",
    "from sklearn.preprocessing import MinMaxScaler\n",
    "import matplotlib.pyplot as plt\n",
    "import seaborn as sns\n",
    "%matplotlib inline"
   ]
  },
  {
   "cell_type": "code",
   "execution_count": 2421,
   "metadata": {},
   "outputs": [],
   "source": [
    "df = pd.read_csv('main_task.csv')\n",
    "df.columns = df.columns.str.lower()"
   ]
  },
  {
   "cell_type": "code",
   "execution_count": 2422,
   "metadata": {},
   "outputs": [],
   "source": [
    "# Почистим столбец кухонь\n",
    "\n",
    "def clean_name(str_val):\n",
    "    \"\"\"\n",
    "    Преобразует строку с названиями кухонь в список [list] названий кухонь.\n",
    "    На входе:\n",
    "        - строковая переменная, содержащая названия кухонь.\n",
    "    На выходе:\n",
    "        - список [list] названий кухонь.\n",
    "    \"\"\"\n",
    "    if pd.isna(str_val):\n",
    "        return str_val\n",
    "    str_val = str_val.strip('[]')\n",
    "    str_val = str_val.replace(\"\\'\", '')\n",
    "    return str_val\n",
    "\n",
    "\n",
    "df[\"cuisine style_1\"] = df[\"cuisine style\"].apply(clean_name)\n",
    "\n",
    "# Заполним пропуски самыми популярными кухнями\n",
    "\n",
    "max_count_cusine = Counter(df[\"cuisine style_1\"].str.cat(sep=',').split(','))\n",
    "new_dc = dict(sorted(max_count_cusine.items(),\n",
    "                     key=lambda x: x[1], reverse=True))\n",
    "new_dc\n",
    "pop_cuis = ', '.join(list(new_dc.keys())[:3])\n",
    "\n",
    "df[\"cuisine style_1\"] = df[\"cuisine style_1\"].fillna(pop_cuis)\n",
    "\n",
    "# Посчитам количество кухонь в каждом ресторане\n",
    "df['n cousins'] = df[\"cuisine style_1\"].apply(lambda x: len(x.split(',')))\n",
    "\n",
    "# Удалим дублирующий столбец\n",
    "df = df.drop('cuisine style', axis=1)"
   ]
  },
  {
   "cell_type": "code",
   "execution_count": 2423,
   "metadata": {},
   "outputs": [],
   "source": [
    "# Заполним пропуски в столбце Number of reviews. Найдем среднее число\n",
    "\n",
    "mean_review = round(df['number of reviews'].mean(), 0)\n",
    "df['number of reviews'] = df['number of reviews'].fillna(mean_review)"
   ]
  },
  {
   "cell_type": "code",
   "execution_count": 2424,
   "metadata": {},
   "outputs": [],
   "source": [
    "# Поиск даты отзыва и создание колонки разности времени между отзывами\n",
    "df = df.copy()\n",
    "pattern = re.compile('\\d+\\/\\d+\\/\\d+')\n",
    "df['reviews_date'] = df['reviews'].apply(pattern.findall)\n",
    "df['reviews_date'] = df['reviews_date'].apply(\n",
    "    lambda x: [pd.to_datetime(i).date() for i in x])\n",
    "\n",
    "df['first_review'] = df['reviews_date'].apply(\n",
    "    lambda x: x[0] if len(x) == 2 else 0)\n",
    "df['second_review'] = df['reviews_date'].apply(\n",
    "    lambda x: x[1] if len(x) == 2 else 0)\n",
    "\n",
    "df['delta_time'] = abs(df['second_review']-df['first_review'])\n",
    "df['delta,days'] = df['delta_time'].apply(\n",
    "    lambda x: 0 if type(x) == int else x.days)\n",
    "\n",
    "# Найдем выбросы в данном признаке и заменим их на среднее значеие\n",
    "\n",
    "#plot = df['delta,days'].hist(bins=100)\n",
    "\n",
    "\n",
    "def outliers_iqr(ys):\n",
    "    quartile_1, quartile_3 = np.percentile(ys, [25, 75])\n",
    "    iqr = quartile_3 - quartile_1\n",
    "    lower_bound = quartile_1 - (iqr * 1.5)\n",
    "    upper_bound = quartile_3 + (iqr * 1.5)\n",
    "    return np.where((ys > upper_bound) | (ys < lower_bound))[0]\n",
    "\n",
    "\n",
    "outliers = outliers_iqr(list(df['delta,days']))\n",
    "\n",
    "df['delta,days'] = round(df['delta,days'].replace(\n",
    "    outliers, df['delta,days'].mean()))\n",
    "#plot_1 = df['delta,days'].hist(bins=100)\n",
    "\n",
    "df = df.drop(['delta_time', 'first_review', 'second_review',\n",
    "              'reviews_date', 'reviews'], axis=1)"
   ]
  },
  {
   "cell_type": "code",
   "execution_count": 2425,
   "metadata": {},
   "outputs": [],
   "source": [
    "# Присвоим цене числовое значение\n",
    "\n",
    "price = []\n",
    "\n",
    "# Сначала заполним пропуски самым часто встречающимся\n",
    "df['price range'] = df['price range'].fillna(df['price range'].mode()[0])\n",
    "\n",
    "for i in range(0, len(df['price range'])):\n",
    "    if df['price range'].iloc[i] == '$':\n",
    "        price.append(1)\n",
    "    elif df['price range'].iloc[i] == '$$ - $$$':\n",
    "        price.append(2)\n",
    "    else:\n",
    "        price.append(3)\n",
    "\n",
    "df['price_r'] = price"
   ]
  },
  {
   "cell_type": "code",
   "execution_count": 2426,
   "metadata": {},
   "outputs": [],
   "source": [
    "# создадим новый признак - относительная посещаемость - отношение количества отзывов к количеству отзывов в городе\n",
    "\n",
    "# посчитаем сумму отзывов в каждом городе\n",
    "summ_review = dict(df.groupby(['city'])['number of reviews'].sum())\n",
    "\n",
    "# функция отношения количества отзывов к суммарному количеству отзывов\n",
    "\n",
    "\n",
    "def rest_review(row, summ):\n",
    "    for i in summ.keys():\n",
    "        if row['city'] == i:\n",
    "            res = row['number of reviews']/summ[i]*1000\n",
    "    return res\n",
    "\n",
    "\n",
    "df['rest_review'] = df.apply(lambda x: rest_review(x, summ_review), axis=1)"
   ]
  },
  {
   "cell_type": "code",
   "execution_count": 2427,
   "metadata": {},
   "outputs": [],
   "source": [
    "# тоже самое сделаем для ранга  - отношение ранга ресторана к количеству ресторанов по городу\n",
    "\n",
    "rest = dict(df['city'].value_counts())\n",
    "\n",
    "\n",
    "def rest_rank(row, summ):\n",
    "    for i in summ.keys():\n",
    "        if row['city'] == i:\n",
    "            res = row['ranking']/rest[i]\n",
    "    return res\n",
    "\n",
    "\n",
    "df['rest_rank'] = df.apply(lambda x: rest_rank(x, rest), axis=1)"
   ]
  },
  {
   "cell_type": "code",
   "execution_count": 2428,
   "metadata": {},
   "outputs": [],
   "source": [
    "# Создадим новый признак - зависимость ранга ресторана от количества кухонь (логично предположить,\n",
    "# что людям интереснее ходить в ресторан c большим количеством кухонь )\n",
    "\n",
    "df['rank/cousins'] = df['ranking']/df['n cousins']"
   ]
  },
  {
   "cell_type": "code",
   "execution_count": 2429,
   "metadata": {},
   "outputs": [],
   "source": [
    "# Еще одним логичным признаком является скорость набора ранга\n",
    "# Так как в пизнаке разность дней сть 0, то заменим бесконечность в признаке\n",
    "# скорость набора рейтинга на среднее количество дней\n",
    "df['delta,days'] = df['delta,days'].replace(0, df['delta,days'].mean())\n",
    "df['velocity ranking'] = df['ranking']/df['delta,days']"
   ]
  },
  {
   "cell_type": "code",
   "execution_count": 2430,
   "metadata": {},
   "outputs": [],
   "source": [
    "# создадим новый пизнак, обозначающий разницу в процентах стоимости еды  ресторане от средней стоимости еды в ресторане по по городу.\n",
    "\n",
    "mean_price = dict(df.groupby(['city'])['price_r'].mean())\n",
    "\n",
    "\n",
    "def rest_rank(row, mean):\n",
    "    for i in mean.keys():\n",
    "        if row['city'] == i:\n",
    "            res = (row['price_r'] - mean[i])\n",
    "    return res\n",
    "\n",
    "\n",
    "df['price_delta'] = df.apply(lambda x: rest_rank(x, mean_price), axis=1)"
   ]
  },
  {
   "cell_type": "code",
   "execution_count": 2431,
   "metadata": {},
   "outputs": [],
   "source": [
    "# добавим Dummy-переменную в виде City.\n",
    "df = pd.get_dummies(df, columns=['city'])"
   ]
  },
  {
   "cell_type": "code",
   "execution_count": 2432,
   "metadata": {},
   "outputs": [],
   "source": [
    "df.copy()\n",
    "# Удалим ткстовые данные\n",
    "df['restaurant_id'] = df['restaurant_id'].str.replace('id_', '').astype(int)\n",
    "df['restaurant_id']\n",
    "\n",
    "for column in df.columns:\n",
    "    if df[column].dtype == \"O\":\n",
    "        df = df.drop(columns=column)"
   ]
  },
  {
   "cell_type": "markdown",
   "metadata": {},
   "source": [
    "# Разбиваем датафрейм на части, необходимые для обучения и тестирования модели"
   ]
  },
  {
   "cell_type": "code",
   "execution_count": 2433,
   "metadata": {},
   "outputs": [],
   "source": [
    "X = df.drop(['restaurant_id', 'rating'], axis=1)\n",
    "y = df['rating']\n",
    "RANDOM_SEED = 42"
   ]
  },
  {
   "cell_type": "code",
   "execution_count": 2434,
   "metadata": {},
   "outputs": [],
   "source": [
    "X_train, X_test, y_train, y_test = train_test_split(\n",
    "    X, y, test_size=0.25, random_state=RANDOM_SEED)"
   ]
  },
  {
   "cell_type": "markdown",
   "metadata": {},
   "source": [
    "# Создаём, обучаем и тестируем модель"
   ]
  },
  {
   "cell_type": "code",
   "execution_count": 2435,
   "metadata": {},
   "outputs": [
    {
     "name": "stderr",
     "output_type": "stream",
     "text": [
      "[Parallel(n_jobs=-1)]: Using backend ThreadingBackend with 4 concurrent workers.\n",
      "[Parallel(n_jobs=-1)]: Done  42 tasks      | elapsed:    2.9s\n",
      "[Parallel(n_jobs=-1)]: Done 100 out of 100 | elapsed:    6.6s finished\n",
      "[Parallel(n_jobs=4)]: Using backend ThreadingBackend with 4 concurrent workers.\n",
      "[Parallel(n_jobs=4)]: Done  42 tasks      | elapsed:    0.0s\n",
      "[Parallel(n_jobs=4)]: Done 100 out of 100 | elapsed:    0.1s finished\n"
     ]
    }
   ],
   "source": [
    "regr = RandomForestRegressor(\n",
    "    n_estimators=100, verbose=1, n_jobs=-1, random_state=RANDOM_SEED)\n",
    "\n",
    "\n",
    "regr.fit(X_train, y_train)\n",
    "\n",
    "\n",
    "y_pred = regr.predict(X_test)"
   ]
  },
  {
   "cell_type": "code",
   "execution_count": 2436,
   "metadata": {},
   "outputs": [
    {
     "name": "stdout",
     "output_type": "stream",
     "text": [
      "MAE: 0.21249749999999998\n"
     ]
    }
   ],
   "source": [
    "print('MAE:', metrics.mean_absolute_error(y_test, y_pred))"
   ]
  },
  {
   "cell_type": "code",
   "execution_count": null,
   "metadata": {},
   "outputs": [],
   "source": []
  },
  {
   "cell_type": "code",
   "execution_count": null,
   "metadata": {},
   "outputs": [],
   "source": []
  }
 ],
 "metadata": {
  "kernelspec": {
   "display_name": "Python 3",
   "language": "python",
   "name": "python3"
  },
  "language_info": {
   "codemirror_mode": {
    "name": "ipython",
    "version": 3
   },
   "file_extension": ".py",
   "mimetype": "text/x-python",
   "name": "python",
   "nbconvert_exporter": "python",
   "pygments_lexer": "ipython3",
   "version": "3.8.5"
  }
 },
 "nbformat": 4,
 "nbformat_minor": 2
}
